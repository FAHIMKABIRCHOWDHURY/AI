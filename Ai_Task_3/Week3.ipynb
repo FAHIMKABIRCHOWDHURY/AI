{
 "cells": [
  {
   "cell_type": "markdown",
   "metadata": {},
   "source": [
    "# Table driven agent"
   ]
  },
  {
   "cell_type": "code",
   "execution_count": 1,
   "metadata": {},
   "outputs": [
    {
     "name": "stdout",
     "output_type": "stream",
     "text": [
      "Perception Received: ('B', 'Dirty')\n",
      "Action Performed: Suck\n",
      "Get Perception (yes/no): yes\n",
      "Perception Received: ('B', 'Clean')\n",
      "Action Performed: Left\n",
      "Get Perception (yes/no): no\n"
     ]
    }
   ],
   "source": [
    "table={('A','Clean'):'Right',('A','Dirty'):'Suck',('B','Clean'):'Left',('B','Dirty'):'Suck'}\n",
    "percepts=[]    \n",
    "def table_driven_agent(percept):\n",
    "    print('Perception Received: '+ str(percept))\n",
    "    percepts.append(percept)\n",
    "    action = lookup(percept,table)\n",
    "    return action\n",
    "\n",
    "def lookup(percept,table):\n",
    "    for key in table:\n",
    "        if key == percept:\n",
    "            return table[key]\n",
    "    #return table[percept]\n",
    "\n",
    "import random\n",
    "Location = random.choice(['A','B'])\n",
    "Condition = random.choice(['Clean','Dirty'])\n",
    "\n",
    "while True:\n",
    "    act= table_driven_agent((Location,Condition))\n",
    "    print('Action Performed: '+ action)\n",
    "    cmd = input('Get Perception (yes/no): ')\n",
    "    if(cmd == 'no' or cmd != 'yes'): break\n",
    "    if action == 'Right':\n",
    "        Location = 'B'\n",
    "        Condition = random.choice(['Clean','Dirty'])\n",
    "    elif action== 'Left':\n",
    "        Location = 'A'\n",
    "        Condition = random.choice(['Clean','Dirty'])\n",
    "    else:\n",
    "        Condition = 'Clean'   "
   ]
  },
  {
   "cell_type": "markdown",
   "metadata": {},
   "source": [
    "# Simple reflex agent"
   ]
  },
  {
   "cell_type": "code",
   "execution_count": 2,
   "metadata": {},
   "outputs": [
    {
     "name": "stdout",
     "output_type": "stream",
     "text": [
      "Perception Received: ('B', 'Dirty')\n",
      "Action Performed: Suck\n",
      "Get Perception (yes/no): yes\n",
      "Perception Received: ('B', 'Clean')\n",
      "Action Performed: Left\n",
      "Get Perception (yes/no): no\n"
     ]
    }
   ],
   "source": [
    "def simple_reflex_agent(percept):\n",
    "    print('Perception Received: '+ str(percept))\n",
    "    location = percept[0]\n",
    "    status = percept[1]\n",
    "    if status =='Dirty':\n",
    "        action = 'Suck'\n",
    "    elif location == 'A':\n",
    "        action = 'Right'\n",
    "    elif location =='B':\n",
    "        action = 'Left'\n",
    "    return action\n",
    "\n",
    "import random\n",
    "Location = random.choice(['A','B'])\n",
    "Condition = random.choice(['Clean','Dirty'])\n",
    "\n",
    "while True:\n",
    "    action= simple_reflex_agent((Location,Condition))\n",
    "    print('Action Performed: '+ action)\n",
    "    cmd = input('Get Perception (yes/no): ')\n",
    "    if(cmd == 'no' or cmd != 'yes'): break\n",
    "    if action == 'Right':\n",
    "        Location = 'B'\n",
    "        Condition = random.choice(['Clean','Dirty'])\n",
    "    elif action== 'Left':\n",
    "        Location = 'A'\n",
    "        Condition = random.choice(['Clean','Dirty'])\n",
    "    else:\n",
    "        Condition = 'Clean'\n",
    "\n",
    "    "
   ]
  },
  {
   "cell_type": "markdown",
   "metadata": {},
   "source": [
    "# Model based agent"
   ]
  },
  {
   "cell_type": "code",
   "execution_count": null,
   "metadata": {},
   "outputs": [],
   "source": [
    "model = {'A':'Unknown', 'B':'Unknown'}\n",
    "world_state = 'Bad'\n",
    "action = 'Unknown'\n",
    "\n",
    "def update_state(action, percept, model):\n",
    "    location = percept[0]\n",
    "    status = percept[1]\n",
    "    model[location] = status\n",
    "    \n",
    "    global world_state\n",
    "    if action == 'Suck':\n",
    "        model[location]='Clean'\n",
    "    if model['A']=='Clean' and model['B']=='Clean':\n",
    "        world_state = 'Good'\n",
    "    else:\n",
    "        world_state = 'Bad'\n",
    "    return world_state\n",
    "        \n",
    "\n",
    "def model_based_reflex_agent(percept):\n",
    "    location = percept[0]\n",
    "    status = percept[1]\n",
    "    \n",
    "    global world_state,action,model\n",
    "    \n",
    "    if world_state == 'Good':\n",
    "        action = 'Nothing to do'\n",
    "        return action\n",
    "    elif status == 'Dirty':\n",
    "        action = 'Suck'\n",
    "    elif location == 'A':\n",
    "        action = 'Right'\n",
    "    elif location =='B':\n",
    "        action = 'Left'\n",
    "    world_state = update_state(action, percept, model)\n",
    "    print('Perception: '+str(percept)) \n",
    "    print('Action Performed: '+ action)    \n",
    "    print('Model: '+str(model))   \n",
    "    print('State: '+str(world_state))    \n",
    "    return action\n",
    "\n",
    "\n",
    "import random\n",
    "Location = random.choice(['A','B'])\n",
    "Condition= random.choice(['Clean','Dirty'])\n",
    "\n",
    "while True:\n",
    "    print('*****')\n",
    "    action = model_based_reflex_agent((Location,Condition))\n",
    "    if action == 'Right':\n",
    "        Location = 'B'\n",
    "        Condition = random.choice(['Clean','Dirty'])\n",
    "    elif action == 'Left':\n",
    "        Location = 'A'\n",
    "        Condition = random.choice(['Clean','Dirty'])\n",
    "    elif action == 'Suck':\n",
    "        Condition = 'Clean'\n",
    "    elif action == 'Nothing to do':\n",
    "        cmd = input('Stopped. Do restart? (yes/no): ')\n",
    "        if(cmd == 'no' or cmd != 'yes'): break\n",
    "        Condition = random.choice(['Clean','Dirty'])\n",
    "        model = {'A':'Unknown', 'B':'Unknown'}\n",
    "        world_state = 'Bad'\n",
    "        action = 'Unknown'\n",
    "        \n",
    "\n",
    "    "
   ]
  },
  {
   "cell_type": "markdown",
   "metadata": {},
   "source": [
    "## Task"
   ]
  },
  {
   "cell_type": "markdown",
   "metadata": {},
   "source": [
    "Implement diffierent types of agent implementation to do certain task of your choice"
   ]
  },
  {
   "cell_type": "markdown",
   "metadata": {},
   "source": [
    "# Industrial Water Tank Agent \n",
    "Here we will use two water tank and we need proper water supply. when the water tank is empty the sensor will make the water motor on and when it will full it will get the action to turn the pump to another tank. Like this every time It will check tanks and  And turn the pump when it will full."
   ]
  },
  {
   "cell_type": "markdown",
   "metadata": {},
   "source": [
    "# Task: Simple reflex agent"
   ]
  },
  {
   "cell_type": "code",
   "execution_count": null,
   "metadata": {},
   "outputs": [
    {
     "name": "stdout",
     "output_type": "stream",
     "text": [
      "Perception : ('tankB', 'Empty')\n",
      "Successfully done : PumpOn\n",
      "Get Perception (yes/no): yes\n",
      "Perception : ('tankB', 'Full')\n",
      "Successfully done : pumpOff\n"
     ]
    }
   ],
   "source": [
    "def simple_reflex_agent(percept):\n",
    "    print('Perception : '+ str(percept))\n",
    "    tankNo = percept[0]\n",
    "    status = percept[1]\n",
    "    if status =='Empty':\n",
    "        act = 'PumpOn'\n",
    "    elif tankNo == 'tankA':\n",
    "        act = 'tunredToTankB'\n",
    "    elif tankNo =='tankB':\n",
    "        act = 'pumpOff'\n",
    "    return act\n",
    "\n",
    "import random\n",
    "tankNo = random.choice(['tankA','tankB'])\n",
    "tankStatus = random.choice(['Full','Empty'])\n",
    "\n",
    "while True:\n",
    "    act= simple_reflex_agent((tankNo,tankStatus))\n",
    "    print('Successfully done : '+ act)\n",
    "    cmd = input('Get Perception (yes/no): ')\n",
    "    if(cmd == 'no' or cmd != 'yes'): break\n",
    "    if act == 'tunredToTankB':\n",
    "        tankNo = 'tankB'\n",
    "        tankStatus = random.choice(['Full','Empty'])\n",
    "    elif act== 'tunredToTankA':\n",
    "        tankNo = 'tankA'\n",
    "        tankStatus = random.choice(['Full','Empty'])\n",
    "    else:\n",
    "        tankStatus = 'Full'"
   ]
  },
  {
   "cell_type": "markdown",
   "metadata": {},
   "source": [
    "# Task: Table driven agent"
   ]
  },
  {
   "cell_type": "code",
   "execution_count": null,
   "metadata": {},
   "outputs": [
    {
     "name": "stdout",
     "output_type": "stream",
     "text": [
      "Perception Received: ('tankB', 'Empty')\n",
      "Successfully done : pumpToTankB\n",
      "Get Perception (yes/no): yes\n",
      "Perception Received: ('tankB', 'Full')\n",
      "Successfully done : pumpOff\n",
      "Get Perception (yes/no): yes\n",
      "Perception Received: ('tankA', 'Empty')\n",
      "Successfully done : pumpOn\n"
     ]
    }
   ],
   "source": [
    "tankTable={('tankA','Full'):'turnedToTankB',('tankA','Empty'):'pumpOn',('tankB','Full'):'pumpOff',('tankB','Empty'):'pumpToTankB'}\n",
    "percepts=[]    \n",
    "def table_driven_agent(percept):\n",
    "    print('Perception Received: '+ str(percept))\n",
    "    percepts.append(percept)\n",
    "    action = check(percept,tankTable)\n",
    "    return action\n",
    "\n",
    "def check(percept,Table):\n",
    "    for key in tankTable:\n",
    "        if key == percept:\n",
    "            return tankTable[key]\n",
    "  \n",
    "\n",
    "import random\n",
    "tankNo = random.choice(['tankA','tankB'])\n",
    "tankStatus = random.choice(['Full','Empty'])\n",
    "\n",
    "while True:\n",
    "    act= table_driven_agent((tankNo,tankStatus))\n",
    "    print('Successfully done : '+ act)\n",
    "    cmd = input('Get Perception (yes/no): ')\n",
    "    if(cmd == 'no' or cmd != 'yes'): break\n",
    "    if act == 'turnedToTankB':\n",
    "        tankNo = 'tankB'\n",
    "        tankStatus = random.choice(['Full','Empty'])\n",
    "    elif act== 'tunredToTankA':\n",
    "        tankNo = 'tankA'\n",
    "        tankStatus = random.choice(['Full','Empty'])\n",
    "    elif act=='pumpOff':\n",
    "        tankNo='tankA'\n",
    "        tankStatus = random.choice(['Full','Empty'])\n",
    "    else:\n",
    "        tankStatus = 'Full'"
   ]
  },
  {
   "cell_type": "markdown",
   "metadata": {},
   "source": [
    "# Task: Model based agent"
   ]
  },
  {
   "cell_type": "code",
   "execution_count": null,
   "metadata": {},
   "outputs": [
    {
     "name": "stdout",
     "output_type": "stream",
     "text": [
      "-----\n",
      "Perception: ('tankB', 'Full')\n",
      "Action Performed: turnedToTankA\n",
      "Model: {'tankA': 'Unknown', 'tankB': 'Full'}\n",
      "State: still Empty\n",
      "-----\n",
      "Perception: ('tankA', 'Full')\n",
      "Action Performed: turnedToTankB\n",
      "Model: {'tankA': 'Full', 'tankB': 'Full'}\n",
      "State: Tanks Are Full\n",
      "-----\n",
      "All done!! Do you to start again? (yes/no): yes\n",
      "-----\n",
      "Perception: ('tankB', 'Full')\n",
      "Action Performed: turnedToTankA\n",
      "Model: {'tankA': 'Unknown', 'tankB': 'Full'}\n",
      "State: still Empty\n",
      "-----\n",
      "Perception: ('tankA', 'Empty')\n",
      "Action Performed: pumpOn\n",
      "Model: {'tankA': 'Full', 'tankB': 'Full'}\n",
      "State: Tanks Are Full\n",
      "-----\n"
     ]
    }
   ],
   "source": [
    "model = {'tankA':'Unknown', 'tankB':'Unknown'}\n",
    "tank_state = 'still Empty'\n",
    "action = 'Unknown'\n",
    "\n",
    "def update_state(action, percept, model):\n",
    "    tankNo = percept[0]\n",
    "    tankStatus = percept[1]\n",
    "    model[tankNo] = tankStatus\n",
    "    \n",
    "    global tank_state\n",
    "    if action == 'pumpOn':\n",
    "        model[tankNo]='Full'\n",
    "    if model['tankA']=='Full' and model['tankB']=='Full':\n",
    "        tank_state = 'Tanks Are Full'\n",
    "    else:\n",
    "        tank_state = 'still Empty'\n",
    "    return tank_state\n",
    "        \n",
    "\n",
    "def model_based_reflex_agent(percept):\n",
    "    tankNo = percept[0]\n",
    "    tankStatus = percept[1]\n",
    "    \n",
    "    global tank_state,action,model\n",
    "    \n",
    "    if tank_state == 'Tanks Are Full':\n",
    "        action = 'none'\n",
    "        return action\n",
    "    elif tankStatus == 'Empty':\n",
    "        action = 'pumpOn'\n",
    "    elif tankNo == 'tankA':\n",
    "        action = 'turnedToTankB'\n",
    "    elif tankNo =='tankB':\n",
    "        action = 'turnedToTankA'\n",
    "    tank_state = update_state(action, percept, model)\n",
    "    print('Perception: '+str(percept)) \n",
    "    print('Action Performed: '+ action)    \n",
    "    print('Model: '+str(model))   \n",
    "    print('State: '+str(tank_state))    \n",
    "    return action\n",
    "\n",
    "\n",
    "import random\n",
    "tankNo = random.choice(['tankA','tankB'])\n",
    "tankStatus= random.choice(['Full','Empty'])\n",
    "\n",
    "while True:\n",
    "    print('-----')\n",
    "    action = model_based_reflex_agent((tankNo,tankStatus))\n",
    "    if action == 'turnedToTankB':\n",
    "        tankNo = 'tankB'\n",
    "        tankStatus = random.choice(['Full','Empty'])\n",
    "    elif action == 'turnedToTankA':\n",
    "        tankNo = 'tankA'\n",
    "        tankStatus = random.choice(['Full','Empty'])\n",
    "    elif action == 'pumOn':\n",
    "        tankStatus = 'Full'\n",
    "    elif action == 'none':\n",
    "        cmd = input('All done!! Do you to start again? (yes/no): ')\n",
    "        if(cmd == 'no' or cmd != 'yes'): break\n",
    "        tankStatus = random.choice(['Full','Empty'])\n",
    "        model = {'tankA':'Unknown', 'tankB':'Unknown'}\n",
    "        tank_state = 'still Empty'\n",
    "        action = 'Unknown'"
   ]
  }
 ],
 "metadata": {
  "kernelspec": {
   "display_name": "Python 3",
   "language": "python",
   "name": "python3"
  },
  "language_info": {
   "codemirror_mode": {
    "name": "ipython",
    "version": 3
   },
   "file_extension": ".py",
   "mimetype": "text/x-python",
   "name": "python",
   "nbconvert_exporter": "python",
   "pygments_lexer": "ipython3",
   "version": "3.8.8"
  }
 },
 "nbformat": 4,
 "nbformat_minor": 4
}
