{
 "cells": [
  {
   "cell_type": "markdown",
   "metadata": {},
   "source": [
    "# N Queen Attack Detection"
   ]
  },
  {
   "cell_type": "code",
   "execution_count": 7,
   "metadata": {},
   "outputs": [
    {
     "name": "stdout",
     "output_type": "stream",
     "text": [
      "Q1: 2,2\n",
      "Q2: 2,1\n",
      "Q3: 5,2\n",
      "Q4: 3,4\n",
      "Q5: 8,7\n",
      "Q6: 3,7\n",
      "Q7: 5,1\n",
      "Q8: 3,6\n",
      "[2, 2, 5, 3, 8, 3, 5, 3]\n",
      "[2, 1, 2, 4, 7, 7, 1, 6]\n"
     ]
    }
   ],
   "source": [
    "import random\n",
    "N = 8\n",
    "r = []\n",
    "c = []\n",
    "for i in range(1, N+1):\n",
    "    r.append(random.choice(range(1, N+1)))\n",
    "    c.append(random.choice(range(1, N+1)))\n",
    "    #check repetition of position\n",
    "    print('Q{}: {},{}'.format(i,r[-1],c[-1]))\n",
    "print(r)\n",
    "print(c)"
   ]
  },
  {
   "cell_type": "code",
   "execution_count": 8,
   "metadata": {},
   "outputs": [
    {
     "name": "stdout",
     "output_type": "stream",
     "text": [
      "row attack: row:2 column:2 and 1\n",
      "row attack: row:5 column:2 and 1\n",
      "row attack: row:3 column:4 and 7\n",
      "row attack: row:3 column:4 and 6\n",
      "row attack: row:3 column:7 and 6\n"
     ]
    }
   ],
   "source": [
    "# row attack\n",
    "for i in range(0,N):\n",
    "    for j in range(i+1,N):\n",
    "        if(r[i] == r[j]):\n",
    "            print('row attack: row:{} column:{} and {}'.format(r[i],c[i],c[j]))      \n",
    "    "
   ]
  },
  {
   "cell_type": "code",
   "execution_count": 9,
   "metadata": {},
   "outputs": [
    {
     "name": "stdout",
     "output_type": "stream",
     "text": [
      "column attack: Column:2 Row:2 and 5\n",
      "column attack: Column:1 Row:2 and 5\n",
      "column attack: Column:7 Row:8 and 3\n"
     ]
    }
   ],
   "source": [
    "#column attack\n",
    "for i in range(0,N):\n",
    "    for j in range(i+1,N):\n",
    "        if(c[i] == c[j]):\n",
    "            print('column attack: Column:{} Row:{} and {}'.format(c[i],r[i],r[j]))"
   ]
  },
  {
   "cell_type": "code",
   "execution_count": 11,
   "metadata": {},
   "outputs": [
    {
     "name": "stdout",
     "output_type": "stream",
     "text": [
      "column attack: Column:1 Row:2 and Column:7 Row:8\n",
      "column attack: Column:2 Row:5 and Column:4 Row:3\n"
     ]
    }
   ],
   "source": [
    "# diagonal attack\n",
    "for i in range(0,N):\n",
    "    for j in range(i+1,N):\n",
    "        if(abs(r[i]-r[j])==abs(c[i]-c[j])):\n",
    "            print('column attack: Column:{} Row:{} and Column:{} Row:{}'.format(c[i],r[i],c[j],r[j]))"
   ]
  },
  {
   "cell_type": "code",
   "execution_count": 34,
   "metadata": {},
   "outputs": [
    {
     "name": "stdout",
     "output_type": "stream",
     "text": [
      "Not valid\n",
      "Valid\n",
      "Not valid\n",
      "Valid\n",
      "Not valid\n",
      "Valid\n",
      "Valid\n"
     ]
    }
   ],
   "source": [
    "# implement a method to print a state is valid or not\n",
    "# input r and c (two lists)\n",
    "def ValidCheck(r,c):\n",
    " for i in range(0,N):\n",
    "  for j in range(i+1,N):\n",
    "        if(r[i] == r[j]):\n",
    "            print('Not valid') \n",
    "            break\n",
    "        elif(c[i] == c[j]):\n",
    "            print('Not valid')\n",
    "            break\n",
    "        elif(abs(r[i]-r[j])==abs(c[i]-c[j])):\n",
    "            print('Not valid')\n",
    "            break\n",
    "        else:\n",
    "            print('Valid')\n",
    "            break\n",
    "            \n",
    "ValidCheck(r,c)"
   ]
  },
  {
   "cell_type": "code",
   "execution_count": null,
   "metadata": {},
   "outputs": [],
   "source": []
  },
  {
   "cell_type": "code",
   "execution_count": null,
   "metadata": {},
   "outputs": [],
   "source": []
  }
 ],
 "metadata": {
  "kernelspec": {
   "display_name": "Python 3",
   "language": "python",
   "name": "python3"
  },
  "language_info": {
   "codemirror_mode": {
    "name": "ipython",
    "version": 3
   },
   "file_extension": ".py",
   "mimetype": "text/x-python",
   "name": "python",
   "nbconvert_exporter": "python",
   "pygments_lexer": "ipython3",
   "version": "3.8.8"
  }
 },
 "nbformat": 4,
 "nbformat_minor": 4
}
