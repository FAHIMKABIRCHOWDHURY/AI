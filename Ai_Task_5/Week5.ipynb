{
 "cells": [
  {
   "cell_type": "code",
   "execution_count": 2,
   "metadata": {},
   "outputs": [],
   "source": [
    "romanian_map = {\n",
    "    'Arad': {'Sibiu':140, 'Zerind':75, 'Timisoara':118},\n",
    "    'Zerind': {'Arad':75, 'Oradea':71},\n",
    "    'Oradea': {'Zerind':71, 'Sibiu': 151},\n",
    "    'Sibiu': {'Arad':140, 'Oradea':151, 'Fagaras':99, 'Rimnicu':80},\n",
    "    'Timisoara': {'Arad': 118, 'Lugoj':111},\n",
    "    'Lugoj': {'Timisoara':111, 'Mehadia':70},\n",
    "    'Mehadia': {'Lugoj': 70, 'Drobeta':75},\n",
    "    'Drobeta': {'Mehadia':75, 'Craiova':120},\n",
    "    'Craiova': {'Drobeta': 120, 'Rimnicu': 146, 'Pitesti': 138},\n",
    "    'Rimnicu': {'Sibiu': 80, 'Craiova': 146, 'Pitesti': 97},\n",
    "    'Fagaras': {'Sibiu':99, 'Bucharest':211},\n",
    "    'Pitesti': {'Rimnicu': 97, 'Craiova':138, 'Bucharest':101},\n",
    "    'Bucharest': {'Fagaras':211, 'Pitesti': 101, 'Giurgiu':90, 'Urziceni':85},\n",
    "    'Giurgiu': {'Bucharest': 90},\n",
    "    'Urziceni': {'Bucharest': 85, 'Vaslui':142, 'Hirsova':98},\n",
    "    'Hirsova': {'Urziceni':98, 'Eforie':86},\n",
    "    'Eforie': {'Hirsova':86},\n",
    "    'Vaslui': {'Iasi': 92, 'Urziceni':142},\n",
    "    'Iasi': {'Vaslui':92, 'Neamt': 87},\n",
    "    'Neamt': {'Iasi':87}\n",
    "}"
   ]
  },
  {
   "cell_type": "markdown",
   "metadata": {},
   "source": [
    "# Greedy Best First Search"
   ]
  },
  {
   "cell_type": "code",
   "execution_count": 3,
   "metadata": {},
   "outputs": [],
   "source": [
    "h = {'Arad': 366,'Zerind':  374,'Oradea': 380,'Sibiu': 253,\n",
    "    'Timisoara': 329,'Lugoj': 244,'Mehadia': 241,'Drobeta': 242,\n",
    "    'Craiova': 160,'Rimnicu': 193,'Fagaras': 176,'Pitesti': 100,\n",
    "    'Bucharest': 0,'Giurgiu': 77,'Urziceni': 80,'Hirsova': 151,\n",
    "    'Eforie': 161,'Vaslui': 199,'Iasi': 226,'Neamt': 234\n",
    "} "
   ]
  },
  {
   "cell_type": "code",
   "execution_count": 4,
   "metadata": {
    "_cell_guid": "b1076dfc-b9ad-4769-8c92-a6c4dae69d19",
    "_uuid": "8f2839f25d086af736a60e9eeb907d3b93b6e0e5"
   },
   "outputs": [
    {
     "name": "stdout",
     "output_type": "stream",
     "text": [
      "Timisoara\n",
      "Lugoj\n",
      "Mehadia\n",
      "Drobeta\n",
      "Craiova\n",
      "Pitesti\n",
      "Bucharest\n",
      "['Timisoara', 'Lugoj', 'Mehadia', 'Drobeta', 'Craiova', 'Pitesti', 'Bucharest']\n",
      "615\n",
      "['Timisoara', 'Lugoj', 'Mehadia', 'Drobeta', 'Craiova', 'Pitesti', 'Bucharest']\n"
     ]
    }
   ],
   "source": [
    "from queue import PriorityQueue\n",
    "\n",
    "\n",
    "def gbfs(startingNode, destinationNode):\n",
    "    visited = {}\n",
    "    \n",
    "    gbfs_traversal_output = []\n",
    "    pq = PriorityQueue()\n",
    "\n",
    "\n",
    "    for city in romanian_map.keys():\n",
    "        visited[city] = False\n",
    "        \n",
    "    visited[startingNode] = True\n",
    "    node = (h[startingNode],startingNode,[startingNode],0)\n",
    "    pq.put(node)\n",
    "\n",
    "\n",
    "    while not pq.empty():\n",
    "        node = pq.get()\n",
    "        u = node[1] \n",
    "        print(u)\n",
    "        gbfs_traversal_output.append(u)\n",
    "        if u== destinationNode:\n",
    "            print(node[2])\n",
    "            print(node[3])\n",
    "            print(gbfs_traversal_output)\n",
    "            break\n",
    "        visited[u] = True\n",
    "        for v in romanian_map[u].keys():            \n",
    "            if not visited[v]:\n",
    "                d = node[3] + romanian_map[u][v]\n",
    "                p = node[2]+[v]\n",
    "                pq.put((h[v],v,p,d))   \n",
    "    \n",
    "\n",
    "gbfs('Timisoara', 'Bucharest')\n"
   ]
  },
  {
   "cell_type": "markdown",
   "metadata": {},
   "source": [
    "# A*"
   ]
  },
  {
   "cell_type": "code",
   "execution_count": 8,
   "metadata": {},
   "outputs": [
    {
     "name": "stdout",
     "output_type": "stream",
     "text": [
      "Timisoara\n",
      "Lugoj\n",
      "Mehadia\n",
      "Arad\n",
      "Drobeta\n",
      "Sibiu\n",
      "Rimnicu\n",
      "Fagaras\n",
      "Pitesti\n",
      "Bucharest\n",
      "Craiova\n",
      "Zerind\n",
      "Bucharest\n",
      "Craiova\n",
      "Oradea\n",
      "Urziceni\n",
      "Giurgiu\n",
      "Craiova\n",
      "Urziceni\n",
      "Giurgiu\n",
      "Oradea\n",
      "Hirsova\n",
      "Hirsova\n",
      "Vaslui\n",
      "Eforie\n",
      "['Timisoara', 'Arad', 'Sibiu', 'Rimnicu', 'Pitesti', 'Bucharest', 'Urziceni', 'Hirsova', 'Eforie']\n",
      "805\n",
      "['Timisoara', 'Lugoj', 'Mehadia', 'Arad', 'Drobeta', 'Sibiu', 'Rimnicu', 'Fagaras', 'Pitesti', 'Bucharest', 'Craiova', 'Zerind', 'Bucharest', 'Craiova', 'Oradea', 'Urziceni', 'Giurgiu', 'Craiova', 'Urziceni', 'Giurgiu', 'Oradea', 'Hirsova', 'Hirsova', 'Vaslui', 'Eforie']\n"
     ]
    }
   ],
   "source": [
    "def aStart(startingNode, destinationNode):\n",
    "    Q = PriorityQueue()\n",
    "    visited = {}\n",
    "    aStart_traversal_output = []\n",
    "    \n",
    "    \n",
    "    \n",
    "    \n",
    "    for city in romanian_map.keys():\n",
    "        \n",
    "        visited[city] = False\n",
    "        \n",
    "    visited[startingNode] = True\n",
    "    \n",
    "    firstDistance = 0;\n",
    "    \n",
    "    node = (h[startingNode]+firstDistance,startingNode,[startingNode],0)\n",
    "    \n",
    "    Q.put(node)\n",
    "    \n",
    "    \n",
    "    \n",
    "    \n",
    "    \n",
    "    while not Q.empty():\n",
    "        \n",
    "        node = Q.get()\n",
    "        \n",
    "        u = node[1]\n",
    "        print(u)\n",
    "        \n",
    "        aStart_traversal_output.append(u)\n",
    "        \n",
    "        \n",
    "        \n",
    "\n",
    "        if u== destinationNode:\n",
    "            print(node[2])\n",
    "            print(node[3])\n",
    "            print(aStart_traversal_output)\n",
    "            break\n",
    "            \n",
    "            \n",
    "        visited[u] = True\n",
    "        \n",
    "        \n",
    "        \n",
    "        \n",
    "        for v in romanian_map[u].keys():           \n",
    "            if not visited[v]:\n",
    "                d = node[3] + romanian_map[u][v]\n",
    "                p = node[2]+[v]\n",
    "                firstDistance=d\n",
    "                Q.put((h[v]+firstDistance,v,p,d))  \n",
    "                \n",
    "                \n",
    "                \n",
    "\n",
    "aStart('Timisoara', 'Eforie')"
   ]
  },
  {
   "cell_type": "code",
   "execution_count": null,
   "metadata": {},
   "outputs": [],
   "source": []
  }
 ],
 "metadata": {
  "kernelspec": {
   "display_name": "Python 3",
   "language": "python",
   "name": "python3"
  },
  "language_info": {
   "codemirror_mode": {
    "name": "ipython",
    "version": 3
   },
   "file_extension": ".py",
   "mimetype": "text/x-python",
   "name": "python",
   "nbconvert_exporter": "python",
   "pygments_lexer": "ipython3",
   "version": "3.8.8"
  }
 },
 "nbformat": 4,
 "nbformat_minor": 4
}
