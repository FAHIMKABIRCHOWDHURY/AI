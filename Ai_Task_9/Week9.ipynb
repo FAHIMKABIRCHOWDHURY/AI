{
 "cells": [
  {
   "cell_type": "code",
   "execution_count": 68,
   "metadata": {},
   "outputs": [],
   "source": [
    "cgraph = {'WA': ['SA', 'NT'], \n",
    "          'Q': ['SA', 'NT', 'NSW'], \n",
    "          'T': [],\n",
    "          'V': ['SA', 'NSW'], \n",
    "          'SA': ['WA', 'NT', 'Q', 'NSW','V'], \n",
    "          'NT': ['Q', 'WA', 'SA'], \n",
    "          'NSW': ['Q', 'V', 'SA']}\n",
    "okColor={}"
   ]
  },
  {
   "cell_type": "code",
   "execution_count": 69,
   "metadata": {},
   "outputs": [],
   "source": [
    "# write a method to get the highest degree node\n",
    "\n",
    "def get_node_hd():\n",
    "    mnode = ''\n",
    "    length = -1\n",
    "    for k in cgraph.keys():\n",
    "        if(len(cgraph[k])>length and k not in okColor.keys()):\n",
    "            #print(k)\n",
    "            length = len(cgraph[k])\n",
    "            mnode = k\n",
    "    return mnode"
   ]
  },
  {
   "cell_type": "code",
   "execution_count": 70,
   "metadata": {},
   "outputs": [
    {
     "data": {
      "text/plain": [
       "'SA'"
      ]
     },
     "execution_count": 70,
     "metadata": {},
     "output_type": "execute_result"
    }
   ],
   "source": [
    "get_node_hd()"
   ]
  },
  {
   "cell_type": "code",
   "execution_count": 71,
   "metadata": {},
   "outputs": [],
   "source": [
    "colorstochooselist={'WA': ['red','green', 'blue'], \n",
    "                    'Q': ['red','green', 'blue'],\n",
    "                    'T': ['red', 'green', 'blue'],\n",
    "                    'V':  ['red','green', 'blue'], \n",
    "                    'NT': ['red','green', 'blue'],\n",
    "                    'SA': ['red','green', 'blue'],                    \n",
    "                    'NSW': ['red','green', 'blue']}\n",
    "\n",
    "import random\n",
    "def get_color(node):\n",
    "    # check colorstochooselist[node] is empty or not\n",
    "    if (colorstochooselist[node] ==\"''\"):\n",
    "        return 'no color'\n",
    "    # return 'no color'\n",
    "    color = random.choice(colorstochooselist[node])\n",
    "    colorstochooselist.pop(node)\n",
    "    # update color options\n",
    "    \n",
    "    adjList = cgraph[node]\n",
    "    for adj in adjList:\n",
    "        if(adj in colorstochooselist.keys()):\n",
    "            colorstochooselist[adj].remove(color)\n",
    "    #print(adjList)\n",
    "    return color\n",
    "    "
   ]
  },
  {
   "cell_type": "code",
   "execution_count": 72,
   "metadata": {},
   "outputs": [
    {
     "name": "stdout",
     "output_type": "stream",
     "text": [
      "{'WA': ['green', 'blue'], 'Q': ['green', 'blue'], 'T': ['red', 'green', 'blue'], 'V': ['green', 'blue'], 'NT': ['green', 'blue'], 'NSW': ['green', 'blue']}\n",
      "{'SA': 'red'}\n",
      "{'WA': ['green', 'blue'], 'T': ['red', 'green', 'blue'], 'V': ['green', 'blue'], 'NT': ['blue'], 'NSW': ['blue']}\n",
      "{'SA': 'red', 'Q': 'green'}\n",
      "{'WA': ['green'], 'T': ['red', 'green', 'blue'], 'V': ['green', 'blue'], 'NSW': ['blue']}\n",
      "{'SA': 'red', 'Q': 'green', 'NT': 'blue'}\n",
      "{'WA': ['green'], 'T': ['red', 'green', 'blue'], 'V': ['green']}\n",
      "{'SA': 'red', 'Q': 'green', 'NT': 'blue', 'NSW': 'blue'}\n",
      "{'T': ['red', 'green', 'blue'], 'V': ['green']}\n",
      "{'SA': 'red', 'Q': 'green', 'NT': 'blue', 'NSW': 'blue', 'WA': 'green'}\n",
      "{'T': ['red', 'green', 'blue']}\n",
      "{'SA': 'red', 'Q': 'green', 'NT': 'blue', 'NSW': 'blue', 'WA': 'green', 'V': 'green'}\n",
      "{}\n",
      "{'SA': 'red', 'Q': 'green', 'NT': 'blue', 'NSW': 'blue', 'WA': 'green', 'V': 'green', 'T': 'green'}\n"
     ]
    }
   ],
   "source": [
    "L = len(colorstochooselist)\n",
    "for i in range(0,L):\n",
    "    \n",
    "    hdNode = get_node_hd()\n",
    "    # check condition if all nodes are assigned color [hdNoe is '']\n",
    "    if(hdNode == ''):\n",
    "        print (\"Assignment Complete\")\n",
    "    # print assignments complete\n",
    "\n",
    "    color = get_color(hdNode)\n",
    "    # check 'no color' is returned\n",
    "    if (color == 'no color'):\n",
    "        print(\"failure\")\n",
    "    # print failure\n",
    "\n",
    "    okColor[hdNode]= color\n",
    "    print(colorstochooselist)\n",
    "    print(okColor)\n"
   ]
  },
  {
   "cell_type": "code",
   "execution_count": 73,
   "metadata": {},
   "outputs": [],
   "source": [
    "# define a method to select a node by MRV\n",
    "def get_node_MRV():\n",
    "    l= 7   \n",
    "    mnode = ''\n",
    "    for j in colorstochooselist.keys():\n",
    "        if ( len(colorstochooselist[j]) < l ):\n",
    "            l = len(colorstochooselist[j])\n",
    "            mnode = j\n",
    "    \n",
    "    return mnode"
   ]
  },
  {
   "cell_type": "code",
   "execution_count": 74,
   "metadata": {},
   "outputs": [
    {
     "name": "stdout",
     "output_type": "stream",
     "text": [
      "{'Q': ['red', 'green', 'blue'], 'T': ['red', 'green', 'blue'], 'V': ['red', 'green', 'blue'], 'NT': ['green', 'blue'], 'SA': ['green', 'blue'], 'NSW': ['red', 'green', 'blue']}\n",
      "{'WA': 'red'}\n",
      "{'Q': ['red', 'blue'], 'T': ['red', 'green', 'blue'], 'V': ['red', 'green', 'blue'], 'SA': ['blue'], 'NSW': ['red', 'green', 'blue']}\n",
      "{'WA': 'red', 'NT': 'green'}\n",
      "{'Q': ['red'], 'T': ['red', 'green', 'blue'], 'V': ['red', 'green'], 'NSW': ['red', 'green']}\n",
      "{'WA': 'red', 'NT': 'green', 'SA': 'blue'}\n",
      "{'T': ['red', 'green', 'blue'], 'V': ['red', 'green'], 'NSW': ['green']}\n",
      "{'WA': 'red', 'NT': 'green', 'SA': 'blue', 'Q': 'red'}\n",
      "{'T': ['red', 'green', 'blue'], 'V': ['red']}\n",
      "{'WA': 'red', 'NT': 'green', 'SA': 'blue', 'Q': 'red', 'NSW': 'green'}\n",
      "{'T': ['red', 'green', 'blue']}\n",
      "{'WA': 'red', 'NT': 'green', 'SA': 'blue', 'Q': 'red', 'NSW': 'green', 'V': 'red'}\n",
      "{}\n",
      "{'WA': 'red', 'NT': 'green', 'SA': 'blue', 'Q': 'red', 'NSW': 'green', 'V': 'red', 'T': 'red'}\n"
     ]
    }
   ],
   "source": [
    "okColor={}\n",
    "colorstochooselist={'WA': ['red','green', 'blue'], \n",
    "                    'Q': ['red','green', 'blue'],\n",
    "                    'T': ['red', 'green', 'blue'],\n",
    "                    'V':  ['red','green', 'blue'], \n",
    "                    'NT': ['red','green', 'blue'],\n",
    "                    'SA': ['red','green', 'blue'],                    \n",
    "                    'NSW': ['red','green', 'blue']}\n",
    "\n",
    "L = len(cgraph)\n",
    "for i in range(0,L):\n",
    "    # assign color to the Minimum Remaining Value\n",
    "    mrvNode = get_node_MRV()\n",
    "    selected_color = get_color(mrvNode)\n",
    "    # if 'no color' returned then print failure\n",
    "    okColor[mrvNode]= selected_color\n",
    "    print(colorstochooselist)\n",
    "    print(okColor)"
   ]
  },
  {
   "cell_type": "code",
   "execution_count": null,
   "metadata": {},
   "outputs": [],
   "source": []
  }
 ],
 "metadata": {
  "kernelspec": {
   "display_name": "Python 3",
   "language": "python",
   "name": "python3"
  },
  "language_info": {
   "codemirror_mode": {
    "name": "ipython",
    "version": 3
   },
   "file_extension": ".py",
   "mimetype": "text/x-python",
   "name": "python",
   "nbconvert_exporter": "python",
   "pygments_lexer": "ipython3",
   "version": "3.8.8"
  }
 },
 "nbformat": 4,
 "nbformat_minor": 4
}
